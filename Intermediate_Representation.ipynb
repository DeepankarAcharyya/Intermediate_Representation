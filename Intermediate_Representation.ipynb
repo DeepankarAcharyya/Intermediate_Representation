{
  "nbformat": 4,
  "nbformat_minor": 0,
  "metadata": {
    "colab": {
      "name": "Intermediate_Representation.ipynb",
      "provenance": []
    },
    "kernelspec": {
      "name": "python3",
      "display_name": "Python 3"
    }
  },
  "cells": [
    {
      "cell_type": "markdown",
      "metadata": {
        "id": "7nCPzstH9V3z",
        "colab_type": "text"
      },
      "source": [
        "Importing the Dataset to the Colab Notebook"
      ]
    },
    {
      "cell_type": "code",
      "metadata": {
        "id": "CiNYOcPG8a6v",
        "colab_type": "code",
        "colab": {}
      },
      "source": [
        "!pip install -U -q kaggle\n",
        "!mkdir -p ~/.kaggle"
      ],
      "execution_count": 0,
      "outputs": []
    },
    {
      "cell_type": "code",
      "metadata": {
        "id": "BwssPx4V8dIY",
        "colab_type": "code",
        "colab": {}
      },
      "source": [
        "from google.colab import files\n",
        "files.upload()"
      ],
      "execution_count": 0,
      "outputs": []
    },
    {
      "cell_type": "code",
      "metadata": {
        "id": "6cJKjAWu8f1G",
        "colab_type": "code",
        "colab": {}
      },
      "source": [
        "!cp kaggle.json ~/.kaggle/\n",
        "!kaggle competitions download -c dogs-vs-cats\n",
        "!unzip test1\n",
        "!unzip train"
      ],
      "execution_count": 0,
      "outputs": []
    },
    {
      "cell_type": "markdown",
      "metadata": {
        "id": "kWhOeVK-9oID",
        "colab_type": "text"
      },
      "source": [
        "Dividing the images into train and validation sets"
      ]
    },
    {
      "cell_type": "code",
      "metadata": {
        "id": "9zRShZX-FsqS",
        "colab_type": "code",
        "colab": {}
      },
      "source": [
        "import os, shutil\n",
        "\n",
        "base_dir='/content'\n",
        "\n",
        "train_dir=os.path.join(base_dir,'train')\n",
        "test_dir=os.path.join(base_dir,'test1')\n",
        "\n",
        "val_dir=os.path.join(base_dir,'validation')\n",
        "os.mkdir(val_dir)\n",
        "\n",
        "val_dogs_dir=os.path.join(val_dir,'dogs')\n",
        "os.mkdir(val_dogs_dir)\n",
        "val_cats_dir=os.path.join(val_dir,'cats')\n",
        "os.mkdir(val_cats_dir)"
      ],
      "execution_count": 0,
      "outputs": []
    },
    {
      "cell_type": "code",
      "metadata": {
        "id": "CDmrgxWmXAvC",
        "colab_type": "code",
        "colab": {}
      },
      "source": [
        "train_dogs_dir=os.path.join(train_dir,'dogs')\n",
        "os.mkdir(train_dogs_dir)\n",
        "train_cats_dir=os.path.join(train_dir,'cats')\n",
        "os.mkdir(train_cats_dir)"
      ],
      "execution_count": 0,
      "outputs": []
    },
    {
      "cell_type": "code",
      "metadata": {
        "id": "B6zFrv668tjS",
        "colab_type": "code",
        "colab": {}
      },
      "source": [
        "fnames=['cat.{}.jpg'.format(i) for i in range(1250)]\n",
        "for fname in fnames:\n",
        "  src=os.path.join(train_dir,fname)\n",
        "  dst=os.path.join(val_cats_dir,fname)\n",
        "  shutil.copyfile(src,dst)\n",
        "\n",
        "\n",
        "fnames=['dog.{}.jpg'.format(i) for i in range(1250)]\n",
        "for fname in fnames:\n",
        "  src=os.path.join(train_dir,fname)\n",
        "  dst=os.path.join(val_dogs_dir,fname)\n",
        "  shutil.copyfile(src,dst)"
      ],
      "execution_count": 0,
      "outputs": []
    },
    {
      "cell_type": "code",
      "metadata": {
        "id": "2EUh2e3RW-LS",
        "colab_type": "code",
        "colab": {}
      },
      "source": [
        "fnames=['cat.{}.jpg'.format(i) for i in range(1250,)]\n",
        "for fname in fnames:\n",
        "  src=os.path.join(train_dir,fname)\n",
        "  dst=os.path.join(train_cats_dir,fname)\n",
        "  shutil.copyfile(src,dst)\n",
        "\n",
        "\n",
        "fnames=['dog.{}.jpg'.format(i) for i in range(1250,)]\n",
        "for fname in fnames:\n",
        "  src=os.path.join(train_dir,fname)\n",
        "  dst=os.path.join(train_dogs_dir,fname)\n",
        "  shutil.copyfile(src,dst)"
      ],
      "execution_count": 0,
      "outputs": []
    },
    {
      "cell_type": "markdown",
      "metadata": {
        "id": "QGL7Z5ptTedN",
        "colab_type": "text"
      },
      "source": [
        "The Model Architecture"
      ]
    },
    {
      "cell_type": "code",
      "metadata": {
        "id": "YiXFQ49JTd5F",
        "colab_type": "code",
        "colab": {
          "base_uri": "https://localhost:8080/",
          "height": 527
        },
        "outputId": "ee3f8510-99cf-44cd-c48b-27cc28f0c947"
      },
      "source": [
        "from keras import layers\n",
        "from keras import models\n",
        "\n",
        "model=models.Sequential()\n",
        "\n",
        "model.add(layers.Conv2D(32,(3,3),activation='relu',input_shape=(150,150,3)))\n",
        "model.add(layers.MaxPooling2D(2,2))\n",
        "model.add(layers.Conv2D(64,(3,3),activation='relu'))\n",
        "model.add(layers.MaxPooling2D(2,2))\n",
        "model.add(layers.Conv2D(128,(3,3),activation='relu'))\n",
        "model.add(layers.MaxPooling2D(2,2))\n",
        "model.add(layers.Conv2D(128,(3,3),activation='relu'))\n",
        "model.add(layers.MaxPooling2D(2,2))\n",
        "model.add(layers.Flatten())\n",
        "model.add(layers.Dense(512,activation='relu'))\n",
        "model.add(layers.Dense(1,activation='sigmoid'))\n",
        "\n",
        "model.summary()"
      ],
      "execution_count": 24,
      "outputs": [
        {
          "output_type": "stream",
          "text": [
            "Model: \"sequential_3\"\n",
            "_________________________________________________________________\n",
            "Layer (type)                 Output Shape              Param #   \n",
            "=================================================================\n",
            "conv2d_5 (Conv2D)            (None, 148, 148, 32)      896       \n",
            "_________________________________________________________________\n",
            "max_pooling2d_5 (MaxPooling2 (None, 74, 74, 32)        0         \n",
            "_________________________________________________________________\n",
            "conv2d_6 (Conv2D)            (None, 72, 72, 64)        18496     \n",
            "_________________________________________________________________\n",
            "max_pooling2d_6 (MaxPooling2 (None, 36, 36, 64)        0         \n",
            "_________________________________________________________________\n",
            "conv2d_7 (Conv2D)            (None, 34, 34, 128)       73856     \n",
            "_________________________________________________________________\n",
            "max_pooling2d_7 (MaxPooling2 (None, 17, 17, 128)       0         \n",
            "_________________________________________________________________\n",
            "conv2d_8 (Conv2D)            (None, 15, 15, 128)       147584    \n",
            "_________________________________________________________________\n",
            "max_pooling2d_8 (MaxPooling2 (None, 7, 7, 128)         0         \n",
            "_________________________________________________________________\n",
            "flatten_2 (Flatten)          (None, 6272)              0         \n",
            "_________________________________________________________________\n",
            "dense_3 (Dense)              (None, 512)               3211776   \n",
            "_________________________________________________________________\n",
            "dense_4 (Dense)              (None, 1)                 513       \n",
            "=================================================================\n",
            "Total params: 3,453,121\n",
            "Trainable params: 3,453,121\n",
            "Non-trainable params: 0\n",
            "_________________________________________________________________\n"
          ],
          "name": "stdout"
        }
      ]
    },
    {
      "cell_type": "markdown",
      "metadata": {
        "id": "lP0nnQf9U2DX",
        "colab_type": "text"
      },
      "source": [
        "Compiling the Model"
      ]
    },
    {
      "cell_type": "code",
      "metadata": {
        "id": "cTNvPjnuFfBB",
        "colab_type": "code",
        "colab": {}
      },
      "source": [
        "from keras import optimizers\n",
        "\n",
        "model.compile(loss='binary_crossentropy',\n",
        "              optimizer=optimizers.RMSprop(lr=1e-4),\n",
        "              metrics=['acc'])"
      ],
      "execution_count": 0,
      "outputs": []
    },
    {
      "cell_type": "markdown",
      "metadata": {
        "id": "OsQBRTTeVJSJ",
        "colab_type": "text"
      },
      "source": [
        "Data Pre-processing"
      ]
    },
    {
      "cell_type": "code",
      "metadata": {
        "id": "DPl0Pr7PU3jA",
        "colab_type": "code",
        "colab": {
          "base_uri": "https://localhost:8080/",
          "height": 51
        },
        "outputId": "d7538e3a-5d0b-4b0c-8a7f-b2605c7b8421"
      },
      "source": [
        "from keras.preprocessing.image import ImageDataGenerator\n",
        "\n",
        "train_datagen = ImageDataGenerator(rescale=1./255)\n",
        "test_datagen = ImageDataGenerator(rescale=1./255)\n",
        "\n",
        "train_generator= train_datagen.flow_from_directory(\n",
        "    train_dir,\n",
        "    target_size=(150,150),\n",
        "    batch_size=20,\n",
        "    class_mode='binary')\n",
        "\n",
        "val_generator= test_datagen.flow_from_directory(\n",
        "    val_dir,\n",
        "    target_size=(150,150),\n",
        "    batch_size=20,\n",
        "    class_mode='binary'\n",
        ")"
      ],
      "execution_count": 31,
      "outputs": [
        {
          "output_type": "stream",
          "text": [
            "Found 2500 images belonging to 2 classes.\n",
            "Found 2500 images belonging to 2 classes.\n"
          ],
          "name": "stdout"
        }
      ]
    },
    {
      "cell_type": "code",
      "metadata": {
        "id": "QH8JiVN5V6cY",
        "colab_type": "code",
        "colab": {
          "base_uri": "https://localhost:8080/",
          "height": 1000
        },
        "outputId": "e48f9f56-3f59-4192-ed01-b4fcfeb533e7"
      },
      "source": [
        "history= model.fit_generator(\n",
        "    train_generator,\n",
        "    steps_per_epoch=100,\n",
        "    epochs=30,\n",
        "    validation_data=val_generator,\n",
        "    validation_steps=50)"
      ],
      "execution_count": 32,
      "outputs": [
        {
          "output_type": "stream",
          "text": [
            "Epoch 1/30\n",
            "WARNING:tensorflow:From /usr/local/lib/python3.6/dist-packages/keras/backend/tensorflow_backend.py:190: The name tf.get_default_session is deprecated. Please use tf.compat.v1.get_default_session instead.\n",
            "\n",
            "WARNING:tensorflow:From /usr/local/lib/python3.6/dist-packages/keras/backend/tensorflow_backend.py:197: The name tf.ConfigProto is deprecated. Please use tf.compat.v1.ConfigProto instead.\n",
            "\n",
            "WARNING:tensorflow:From /usr/local/lib/python3.6/dist-packages/keras/backend/tensorflow_backend.py:207: The name tf.global_variables is deprecated. Please use tf.compat.v1.global_variables instead.\n",
            "\n",
            "WARNING:tensorflow:From /usr/local/lib/python3.6/dist-packages/keras/backend/tensorflow_backend.py:216: The name tf.is_variable_initialized is deprecated. Please use tf.compat.v1.is_variable_initialized instead.\n",
            "\n",
            "WARNING:tensorflow:From /usr/local/lib/python3.6/dist-packages/keras/backend/tensorflow_backend.py:223: The name tf.variables_initializer is deprecated. Please use tf.compat.v1.variables_initializer instead.\n",
            "\n",
            "100/100 [==============================] - 109s 1s/step - loss: 0.6892 - acc: 0.5360 - val_loss: 0.6830 - val_acc: 0.4940\n",
            "Epoch 2/30\n",
            "100/100 [==============================] - 107s 1s/step - loss: 0.6651 - acc: 0.6000 - val_loss: 0.6524 - val_acc: 0.5480\n",
            "Epoch 3/30\n",
            "100/100 [==============================] - 107s 1s/step - loss: 0.6194 - acc: 0.6510 - val_loss: 0.5974 - val_acc: 0.6650\n",
            "Epoch 4/30\n",
            "100/100 [==============================] - 107s 1s/step - loss: 0.5885 - acc: 0.6810 - val_loss: 0.5442 - val_acc: 0.7610\n",
            "Epoch 5/30\n",
            "100/100 [==============================] - 106s 1s/step - loss: 0.5345 - acc: 0.7365 - val_loss: 0.5098 - val_acc: 0.7330\n",
            "Epoch 6/30\n",
            "100/100 [==============================] - 107s 1s/step - loss: 0.5184 - acc: 0.7435 - val_loss: 0.4812 - val_acc: 0.7820\n",
            "Epoch 7/30\n",
            "100/100 [==============================] - 107s 1s/step - loss: 0.4960 - acc: 0.7550 - val_loss: 0.4747 - val_acc: 0.7660\n",
            "Epoch 8/30\n",
            "100/100 [==============================] - 106s 1s/step - loss: 0.4776 - acc: 0.7760 - val_loss: 0.4364 - val_acc: 0.8140\n",
            "Epoch 9/30\n",
            "100/100 [==============================] - 107s 1s/step - loss: 0.4596 - acc: 0.7785 - val_loss: 0.3952 - val_acc: 0.8330\n",
            "Epoch 10/30\n",
            "100/100 [==============================] - 106s 1s/step - loss: 0.4340 - acc: 0.7970 - val_loss: 0.3786 - val_acc: 0.8280\n",
            "Epoch 11/30\n",
            "100/100 [==============================] - 106s 1s/step - loss: 0.4129 - acc: 0.8045 - val_loss: 0.3680 - val_acc: 0.8400\n",
            "Epoch 12/30\n",
            "100/100 [==============================] - 106s 1s/step - loss: 0.3844 - acc: 0.8260 - val_loss: 0.3671 - val_acc: 0.8360\n",
            "Epoch 13/30\n",
            "100/100 [==============================] - 107s 1s/step - loss: 0.3703 - acc: 0.8375 - val_loss: 0.3820 - val_acc: 0.8330\n",
            "Epoch 14/30\n",
            "100/100 [==============================] - 107s 1s/step - loss: 0.3532 - acc: 0.8450 - val_loss: 0.2903 - val_acc: 0.8920\n",
            "Epoch 15/30\n",
            "100/100 [==============================] - 106s 1s/step - loss: 0.3300 - acc: 0.8605 - val_loss: 0.2895 - val_acc: 0.8800\n",
            "Epoch 16/30\n",
            "100/100 [==============================] - 107s 1s/step - loss: 0.3132 - acc: 0.8745 - val_loss: 0.2514 - val_acc: 0.9070\n",
            "Epoch 17/30\n",
            "100/100 [==============================] - 107s 1s/step - loss: 0.2807 - acc: 0.8810 - val_loss: 0.2418 - val_acc: 0.9130\n",
            "Epoch 18/30\n",
            "100/100 [==============================] - 107s 1s/step - loss: 0.2875 - acc: 0.8840 - val_loss: 0.2001 - val_acc: 0.9340\n",
            "Epoch 19/30\n",
            "100/100 [==============================] - 107s 1s/step - loss: 0.2452 - acc: 0.8985 - val_loss: 0.1980 - val_acc: 0.9290\n",
            "Epoch 20/30\n",
            "100/100 [==============================] - 107s 1s/step - loss: 0.2335 - acc: 0.9060 - val_loss: 0.1582 - val_acc: 0.9500\n",
            "Epoch 21/30\n",
            "100/100 [==============================] - 107s 1s/step - loss: 0.2058 - acc: 0.9230 - val_loss: 0.1571 - val_acc: 0.9530\n",
            "Epoch 22/30\n",
            "100/100 [==============================] - 107s 1s/step - loss: 0.1874 - acc: 0.9330 - val_loss: 0.1350 - val_acc: 0.9550\n",
            "Epoch 23/30\n",
            "100/100 [==============================] - 107s 1s/step - loss: 0.1691 - acc: 0.9340 - val_loss: 0.1251 - val_acc: 0.9600\n",
            "Epoch 24/30\n",
            "100/100 [==============================] - 108s 1s/step - loss: 0.1614 - acc: 0.9450 - val_loss: 0.1124 - val_acc: 0.9590\n",
            "Epoch 25/30\n",
            "100/100 [==============================] - 107s 1s/step - loss: 0.1435 - acc: 0.9505 - val_loss: 0.1100 - val_acc: 0.9700\n",
            "Epoch 26/30\n",
            "100/100 [==============================] - 107s 1s/step - loss: 0.1148 - acc: 0.9625 - val_loss: 0.0838 - val_acc: 0.9760\n",
            "Epoch 27/30\n",
            "100/100 [==============================] - 107s 1s/step - loss: 0.1153 - acc: 0.9570 - val_loss: 0.0649 - val_acc: 0.9870\n",
            "Epoch 28/30\n",
            "100/100 [==============================] - 108s 1s/step - loss: 0.0973 - acc: 0.9645 - val_loss: 0.0658 - val_acc: 0.9820\n",
            "Epoch 29/30\n",
            "100/100 [==============================] - 107s 1s/step - loss: 0.0868 - acc: 0.9695 - val_loss: 0.0602 - val_acc: 0.9830\n",
            "Epoch 30/30\n",
            "100/100 [==============================] - 107s 1s/step - loss: 0.0749 - acc: 0.9750 - val_loss: 0.0542 - val_acc: 0.9890\n"
          ],
          "name": "stdout"
        }
      ]
    },
    {
      "cell_type": "markdown",
      "metadata": {
        "id": "O7bPf9ZIX0SZ",
        "colab_type": "text"
      },
      "source": [
        "Save the model"
      ]
    },
    {
      "cell_type": "code",
      "metadata": {
        "id": "SqX1cCmIWbsa",
        "colab_type": "code",
        "colab": {}
      },
      "source": [
        "model.save('cats_vs_dogs_v1.h5')"
      ],
      "execution_count": 0,
      "outputs": []
    },
    {
      "cell_type": "markdown",
      "metadata": {
        "id": "nO_hlxLJX2vK",
        "colab_type": "text"
      },
      "source": [
        "Accuracy and Loss Curve during Training"
      ]
    },
    {
      "cell_type": "code",
      "metadata": {
        "id": "NVE7yX09X2Ys",
        "colab_type": "code",
        "colab": {
          "base_uri": "https://localhost:8080/",
          "height": 545
        },
        "outputId": "0c2a26b3-de80-4421-dc1e-58fc75ea4394"
      },
      "source": [
        "import matplotlib.pyplot as plt\n",
        "\n",
        "acc=history.history['acc']\n",
        "val_acc=history.history['val_acc']\n",
        "loss=history.history['loss']\n",
        "val_loss=history.history['val_loss']\n",
        "\n",
        "epochs=range(1,len(acc)+1)\n",
        "\n",
        "plt.plot(epochs,acc,'bo',label='Training acc')\n",
        "plt.plot(epochs,val_acc,'b',label='Validation acc')\n",
        "plt.title('Training and validation accuracy')\n",
        "plt.legend()\n",
        "\n",
        "plt.figure()\n",
        "\n",
        "plt.plot(epochs,loss,'bo',label='Training loss')\n",
        "plt.plot(epochs,val_loss,'b',label='Validation loss')\n",
        "plt.title('Training and validation loss')\n",
        "plt.legend()\n",
        "\n",
        "plt.show()"
      ],
      "execution_count": 34,
      "outputs": [
        {
          "output_type": "display_data",
          "data": {
            "image/png": "[encoded data removed]",
            "text/plain": [
              "<Figure size 432x288 with 1 Axes>"
            ]
          },
          "metadata": {
            "tags": []
          }
        },
        {
          "output_type": "display_data",
          "data": {
            "image/png": "[encoded data removed]",
            "text/plain": [
              "<Figure size 432x288 with 1 Axes>"
            ]
          },
          "metadata": {
            "tags": []
          }
        }
      ]
    },
    {
      "cell_type": "code",
      "metadata": {
        "id": "d6aPgymkZSbm",
        "colab_type": "code",
        "colab": {}
      },
      "source": [
        ""
      ],
      "execution_count": 0,
      "outputs": []
    }
  ]
}