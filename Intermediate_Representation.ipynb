{
  "nbformat": 4,
  "nbformat_minor": 0,
  "metadata": {
    "colab": {
      "name": "Intermediate_Representation.ipynb",
      "provenance": []
    },
    "kernelspec": {
      "name": "python3",
      "display_name": "Python 3"
    }
  },
  "cells": [
    {
      "cell_type": "markdown",
      "metadata": {
        "id": "7nCPzstH9V3z",
        "colab_type": "text"
      },
      "source": [
        "Importing the Dataset to the Colab Notebook"
      ]
    },
    {
      "cell_type": "code",
      "metadata": {
        "id": "CiNYOcPG8a6v",
        "colab_type": "code",
        "colab": {}
      },
      "source": [
        "!pip install -U -q kaggle\n",
        "!mkdir -p ~/.kaggle"
      ],
      "execution_count": 0,
      "outputs": []
    },
    {
      "cell_type": "code",
      "metadata": {
        "id": "BwssPx4V8dIY",
        "colab_type": "code",
        "colab": {}
      },
      "source": [
        "from google.colab import files\n",
        "files.upload()"
      ],
      "execution_count": 0,
      "outputs": []
    },
    {
      "cell_type": "code",
      "metadata": {
        "id": "6cJKjAWu8f1G",
        "colab_type": "code",
        "colab": {}
      },
      "source": [
        "!cp kaggle.json ~/.kaggle/\n",
        "!kaggle competitions download -c dogs-vs-cats\n",
        "!unzip test1\n",
        "!unzip train"
      ],
      "execution_count": 0,
      "outputs": []
    },
    {
      "cell_type": "markdown",
      "metadata": {
        "id": "kWhOeVK-9oID",
        "colab_type": "text"
      },
      "source": [
        "Dividing the images into train and validation sets"
      ]
    },
    {
      "cell_type": "code",
      "metadata": {
        "id": "9zRShZX-FsqS",
        "colab_type": "code",
        "colab": {}
      },
      "source": [
        "import os, shutil\n",
        "\n",
        "base_dir='/content'\n",
        "\n",
        "train_dir=os.path.join(base_dir,'train')\n",
        "test_dir=os.path.join(base_dir,'test1')\n",
        "\n",
        "val_dir=os.path.join(base_dir,'validation')\n",
        "os.mkdir(val_dir)\n",
        "\n",
        "val_dogs_dir=os.path.join(val_dir,'dogs')\n",
        "os.mkdir(val_dogs_dir)\n",
        "val_cats_dir=os.path.join(val_dir,'cats')\n",
        "os.mkdir(val_cats_dir)"
      ],
      "execution_count": 0,
      "outputs": []
    },
    {
      "cell_type": "code",
      "metadata": {
        "id": "B6zFrv668tjS",
        "colab_type": "code",
        "colab": {}
      },
      "source": [
        "fnames=['cat.{}.jpg'.format(i) for i in range(1250)]\n",
        "for fname in fnames:\n",
        "  src=os.path.join(train_dir,fname)\n",
        "  dst=os.path.join(val_cats_dir,fname)\n",
        "  shutil.copyfile(src,dst)\n",
        "\n",
        "\n",
        "fnames=['dog.{}.jpg'.format(i) for i in range(1250)]\n",
        "for fname in fnames:\n",
        "  src=os.path.join(train_dir,fname)\n",
        "  dst=os.path.join(val_dogs_dir,fname)\n",
        "  shutil.copyfile(src,dst)"
      ],
      "execution_count": 0,
      "outputs": []
    },
    {
      "cell_type": "code",
      "metadata": {
        "id": "cTNvPjnuFfBB",
        "colab_type": "code",
        "colab": {}
      },
      "source": [
        ""
      ],
      "execution_count": 0,
      "outputs": []
    }
  ]
}