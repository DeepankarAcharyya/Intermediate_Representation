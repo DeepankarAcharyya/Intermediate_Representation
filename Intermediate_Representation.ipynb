{
  "nbformat": 4,
  "nbformat_minor": 0,
  "metadata": {
    "colab": {
      "name": "Intermediate_Representation.ipynb",
      "provenance": []
    },
    "kernelspec": {
      "name": "python3",
      "display_name": "Python 3"
    }
  },
  "cells": [
    {
      "cell_type": "markdown",
      "metadata": {
        "id": "7nCPzstH9V3z",
        "colab_type": "text"
      },
      "source": [
        "Importing the Dataset to the Colab Notebook"
      ]
    },
    {
      "cell_type": "code",
      "metadata": {
        "id": "CiNYOcPG8a6v",
        "colab_type": "code",
        "colab": {}
      },
      "source": [
        "!pip install -U -q kaggle\n",
        "!mkdir -p ~/.kaggle"
      ],
      "execution_count": 0,
      "outputs": []
    },
    {
      "cell_type": "code",
      "metadata": {
        "id": "BwssPx4V8dIY",
        "colab_type": "code",
        "colab": {}
      },
      "source": [
        "from google.colab import files\n",
        "files.upload()"
      ],
      "execution_count": 0,
      "outputs": []
    },
    {
      "cell_type": "code",
      "metadata": {
        "id": "6cJKjAWu8f1G",
        "colab_type": "code",
        "colab": {}
      },
      "source": [
        "!cp kaggle.json ~/.kaggle/\n",
        "!kaggle competitions download -c dogs-vs-cats\n",
        "!unzip test1\n",
        "!unzip train"
      ],
      "execution_count": 0,
      "outputs": []
    },
    {
      "cell_type": "markdown",
      "metadata": {
        "id": "kWhOeVK-9oID",
        "colab_type": "text"
      },
      "source": [
        "Dividing the images into train and validation sets"
      ]
    },
    {
      "cell_type": "code",
      "metadata": {
        "id": "9zRShZX-FsqS",
        "colab_type": "code",
        "colab": {}
      },
      "source": [
        "import os, shutil\n",
        "\n",
        "base_dir='/content'\n",
        "\n",
        "train_dir=os.path.join(base_dir,'train')\n",
        "test_dir=os.path.join(base_dir,'test1')\n",
        "\n",
        "val_dir=os.path.join(base_dir,'validation')\n",
        "os.mkdir(val_dir)\n",
        "\n",
        "val_dogs_dir=os.path.join(val_dir,'dogs')\n",
        "os.mkdir(val_dogs_dir)\n",
        "val_cats_dir=os.path.join(val_dir,'cats')\n",
        "os.mkdir(val_cats_dir)"
      ],
      "execution_count": 0,
      "outputs": []
    },
    {
      "cell_type": "code",
      "metadata": {
        "id": "B6zFrv668tjS",
        "colab_type": "code",
        "colab": {}
      },
      "source": [
        "fnames=['cat.{}.jpg'.format(i) for i in range(1250)]\n",
        "for fname in fnames:\n",
        "  src=os.path.join(train_dir,fname)\n",
        "  dst=os.path.join(val_cats_dir,fname)\n",
        "  shutil.copyfile(src,dst)\n",
        "\n",
        "\n",
        "fnames=['dog.{}.jpg'.format(i) for i in range(1250)]\n",
        "for fname in fnames:\n",
        "  src=os.path.join(train_dir,fname)\n",
        "  dst=os.path.join(val_dogs_dir,fname)\n",
        "  shutil.copyfile(src,dst)"
      ],
      "execution_count": 0,
      "outputs": []
    },
    {
      "cell_type": "markdown",
      "metadata": {
        "id": "QGL7Z5ptTedN",
        "colab_type": "text"
      },
      "source": [
        "The Model Architecture"
      ]
    },
    {
      "cell_type": "code",
      "metadata": {
        "id": "YiXFQ49JTd5F",
        "colab_type": "code",
        "colab": {
          "base_uri": "https://localhost:8080/",
          "height": 527
        },
        "outputId": "ee3f8510-99cf-44cd-c48b-27cc28f0c947"
      },
      "source": [
        "from keras import layers\n",
        "from keras import models\n",
        "\n",
        "model=models.Sequential()\n",
        "\n",
        "model.add(layers.Conv2D(32,(3,3),activation='relu',input_shape=(150,150,3)))\n",
        "model.add(layers.MaxPooling2D(2,2))\n",
        "model.add(layers.Conv2D(64,(3,3),activation='relu'))\n",
        "model.add(layers.MaxPooling2D(2,2))\n",
        "model.add(layers.Conv2D(128,(3,3),activation='relu'))\n",
        "model.add(layers.MaxPooling2D(2,2))\n",
        "model.add(layers.Conv2D(128,(3,3),activation='relu'))\n",
        "model.add(layers.MaxPooling2D(2,2))\n",
        "model.add(layers.Flatten())\n",
        "model.add(layers.Dense(512,activation='relu'))\n",
        "model.add(layers.Dense(1,activation='sigmoid'))\n",
        "\n",
        "model.summary()"
      ],
      "execution_count": 24,
      "outputs": [
        {
          "output_type": "stream",
          "text": [
            "Model: \"sequential_3\"\n",
            "_________________________________________________________________\n",
            "Layer (type)                 Output Shape              Param #   \n",
            "=================================================================\n",
            "conv2d_5 (Conv2D)            (None, 148, 148, 32)      896       \n",
            "_________________________________________________________________\n",
            "max_pooling2d_5 (MaxPooling2 (None, 74, 74, 32)        0         \n",
            "_________________________________________________________________\n",
            "conv2d_6 (Conv2D)            (None, 72, 72, 64)        18496     \n",
            "_________________________________________________________________\n",
            "max_pooling2d_6 (MaxPooling2 (None, 36, 36, 64)        0         \n",
            "_________________________________________________________________\n",
            "conv2d_7 (Conv2D)            (None, 34, 34, 128)       73856     \n",
            "_________________________________________________________________\n",
            "max_pooling2d_7 (MaxPooling2 (None, 17, 17, 128)       0         \n",
            "_________________________________________________________________\n",
            "conv2d_8 (Conv2D)            (None, 15, 15, 128)       147584    \n",
            "_________________________________________________________________\n",
            "max_pooling2d_8 (MaxPooling2 (None, 7, 7, 128)         0         \n",
            "_________________________________________________________________\n",
            "flatten_2 (Flatten)          (None, 6272)              0         \n",
            "_________________________________________________________________\n",
            "dense_3 (Dense)              (None, 512)               3211776   \n",
            "_________________________________________________________________\n",
            "dense_4 (Dense)              (None, 1)                 513       \n",
            "=================================================================\n",
            "Total params: 3,453,121\n",
            "Trainable params: 3,453,121\n",
            "Non-trainable params: 0\n",
            "_________________________________________________________________\n"
          ],
          "name": "stdout"
        }
      ]
    },
    {
      "cell_type": "code",
      "metadata": {
        "id": "cTNvPjnuFfBB",
        "colab_type": "code",
        "colab": {}
      },
      "source": [
        ""
      ],
      "execution_count": 0,
      "outputs": []
    }
  ]
}